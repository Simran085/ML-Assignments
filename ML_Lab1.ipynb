{
  "nbformat": 4,
  "nbformat_minor": 0,
  "metadata": {
    "colab": {
      "provenance": [],
      "authorship_tag": "ABX9TyNmH1ImJdfrMc6m5wUMW3Xc",
      "include_colab_link": true
    },
    "kernelspec": {
      "name": "python3",
      "display_name": "Python 3"
    },
    "language_info": {
      "name": "python"
    }
  },
  "cells": [
    {
      "cell_type": "markdown",
      "metadata": {
        "id": "view-in-github",
        "colab_type": "text"
      },
      "source": [
        "<a href=\"https://colab.research.google.com/github/Simran085/ML_LAB_ASS_102216115/blob/main/ML_Lab1.ipynb\" target=\"_parent\"><img src=\"https://colab.research.google.com/assets/colab-badge.svg\" alt=\"Open In Colab\"/></a>"
      ]
    },
    {
      "cell_type": "code",
      "execution_count": null,
      "metadata": {
        "colab": {
          "base_uri": "https://localhost:8080/"
        },
        "id": "wuSsAvED8I5W",
        "outputId": "2dc466ab-da31-4f94-93b4-27d6998cf11d"
      },
      "outputs": [
        {
          "output_type": "stream",
          "name": "stdout",
          "text": [
            "Reverse Matrix:\n",
            "[5 4 3 2 1]\n"
          ]
        }
      ],
      "source": [
        "#Q1: a. Reverse the NumPy array: arr = np.array([1, 2, 3, 6, 4, 5])\n",
        "\n",
        "import numpy as np\n",
        "arr = np.array([1,2,3,4,5])\n",
        "n = len(a)\n",
        "rev = arr[::-1]    #[start: stop: step]\n",
        "print(\"Reverse Matrix:\")\n",
        "print(rev)"
      ]
    },
    {
      "cell_type": "code",
      "source": [
        "# Q1.b. Flatten the NumPy arr: array1 = np.array([[1, 2, 3], [2, 4, 5], [1, 2, 3]]) using any two NumPy in-built methods\n",
        "\n",
        "# M1\n",
        "import numpy as np\n",
        "arr = np.array([[1, 2, 3], [2, 4, 5], [1, 2, 3]])\n",
        "flatten_arr = arr.ravel()\n",
        "print(flatten_arr)\n",
        "\n",
        "#M2\n",
        "import numpy as np\n",
        "arr1 = np.array([[1, 2, 3], [2, 4, 5], [1, 2, 3]])\n",
        "flatten_arr1 = arr1.ravel()\n",
        "print(flatten_arr1)\n"
      ],
      "metadata": {
        "colab": {
          "base_uri": "https://localhost:8080/"
        },
        "id": "cuvv0KXAAuni",
        "outputId": "64d5973c-fe53-4e67-9484-f5fe1bd89364"
      },
      "execution_count": null,
      "outputs": [
        {
          "output_type": "stream",
          "name": "stdout",
          "text": [
            "[1 2 3 2 4 5 1 2 3]\n",
            "[1 2 3 2 4 5 1 2 3]\n"
          ]
        }
      ]
    },
    {
      "cell_type": "code",
      "source": [
        "# Q1.c. Compare the following numpy arrays:\n",
        "\n",
        "import numpy as np\n",
        "arr1 = np.array([[1, 2], [3, 4]])\n",
        "arr2 = np.array([[1, 2], [3, 4]])\n",
        "print(arr1 == arr2)\n"
      ],
      "metadata": {
        "colab": {
          "base_uri": "https://localhost:8080/"
        },
        "id": "RFeo53-6CED3",
        "outputId": "00661f2c-5832-4929-ee19-2f6365e8455c"
      },
      "execution_count": null,
      "outputs": [
        {
          "output_type": "stream",
          "name": "stdout",
          "text": [
            "[[ True  True]\n",
            " [ True  True]]\n"
          ]
        }
      ]
    },
    {
      "cell_type": "code",
      "source": [
        "# Q4.d.  (i)  Find the most frequent value and their indice(s)\n",
        "\n",
        "import numpy as np\n",
        "x = np.array([1, 2, 3, 4, 5, 1, 2, 1, 1, 1])\n",
        "most_frequent_val = np.bincount(x).argmax()\n",
        "indices = np.where(x == most_frequent_val)[0]\n",
        "print(most_frequent_val)\n",
        "print(indices)\n",
        "\n",
        "#(ii)\n",
        "y = np.array([1, 1, 1, 2, 3, 4, 2, 4, 3, 3])\n",
        "most_frequent_val_y = np.bincount(y).argmax()\n",
        "indices_y = np.where(y == most_frequent_val_y)[0]\n",
        "print(most_frequent_val)\n",
        "print(indices_y)"
      ],
      "metadata": {
        "colab": {
          "base_uri": "https://localhost:8080/"
        },
        "id": "6aNZTPRnCrv9",
        "outputId": "612844b1-7e92-4e55-bf9e-38565ac374e5"
      },
      "execution_count": null,
      "outputs": [
        {
          "output_type": "stream",
          "name": "stdout",
          "text": [
            "1\n",
            "[0 5 7 8 9]\n",
            "1\n",
            "[0 1 2]\n"
          ]
        }
      ]
    },
    {
      "cell_type": "code",
      "source": [
        "# Q1.e. (i) Sum of all elements, (ii) Sum of all elements row-wise (iii) Sum of all elements column-wise\n",
        "\n",
        "gfg = np.matrix('[4, 1, 9; 12, 3, 1; 4, 5, 6]')\n",
        "total_sum = gfg.sum()\n",
        "row_sum = gfg.sum(axis = 1)\n",
        "col_sum = gfg.sum(axis = 0)\n",
        "\n",
        "print(total_sum)\n",
        "print(row_sum)\n",
        "print(col_sum)"
      ],
      "metadata": {
        "colab": {
          "base_uri": "https://localhost:8080/"
        },
        "id": "vURCVciwEOlf",
        "outputId": "36451093-14a0-4a6e-90ca-bcf0b15260cd"
      },
      "execution_count": null,
      "outputs": [
        {
          "output_type": "stream",
          "name": "stdout",
          "text": [
            "45\n",
            "[[14]\n",
            " [16]\n",
            " [15]]\n",
            "[[20  9 16]]\n"
          ]
        }
      ]
    },
    {
      "cell_type": "code",
      "source": [
        "#Q.1.f.\n",
        "\n",
        "arr = np.array([[55, 25, 15], [30, 44, 2], [11, 45, 77]])\n",
        "\n",
        "# i. Sum of diagonal elements\n",
        "diagonal_sum = np.trace(arr)\n",
        "\n",
        "# ii. Eigenvalues of the matrix\n",
        "eigenvalues = np.linalg.eigvals(arr)\n",
        "\n",
        "# iii. Eigenvectors of the matrix\n",
        "eigenvalues, eigenvectors = np.linalg.eig(arr)\n",
        "\n",
        "# iv. Inverse of the matrix\n",
        "inverse_matrix = np.linalg.inv(arr)\n",
        "\n",
        "# v. Determinant of the matrix\n",
        "determinant = np.linalg.det(arr)\n",
        "\n",
        "print(diagonal_sum)\n",
        "print(eigenvalues)\n",
        "print(eigenvectors)\n",
        "print(inverse_matrix)\n",
        "print(determinant)"
      ],
      "metadata": {
        "colab": {
          "base_uri": "https://localhost:8080/"
        },
        "id": "ir-dAuv7Eypj",
        "outputId": "24af8311-0cdd-45c5-da8f-935a00ff3383"
      },
      "execution_count": null,
      "outputs": [
        {
          "output_type": "stream",
          "name": "stdout",
          "text": [
            "176\n",
            "[98.16835147 28.097044   49.73460452]\n",
            "[[ 0.4574917   0.34637121 -0.15017693]\n",
            " [ 0.28447814 -0.72784061 -0.4852124 ]\n",
            " [ 0.84248058  0.59184038  0.8614034 ]]\n",
            "[[ 0.02404141 -0.00911212 -0.00444671]\n",
            " [-0.01667882  0.02966905  0.0024785 ]\n",
            " [ 0.00631287 -0.01603732  0.01217379]]\n",
            "137180.0000000001\n"
          ]
        }
      ]
    },
    {
      "cell_type": "code",
      "source": [
        "# Q1.g. Multiply the following matrices and also find covariance between matrices\n",
        "# (i)\n",
        "p = np.array([[1, 2], [2, 3]])\n",
        "q = np.array([[4, 5], [6, 7]])\n",
        "product = np.dot(p, q)\n",
        "print(\"Matrix Product:\")\n",
        "print(product)\n",
        "\n",
        "# for covariance: flatten the matrix\n",
        "p_flat = p.flatten()\n",
        "q_flat = q.flatten()\n",
        "\n",
        "mean_p = np.mean(p_flat)\n",
        "mean_q = np.mean(q_flat)\n",
        "\n",
        "cov_matrix = np.sum((p_flat - mean_p) * (q_flat - mean_q)) / (len(p_flat) - 1)\n",
        "print(\"Covariance matrix: \")\n",
        "print(cov_matrix)\n"
      ],
      "metadata": {
        "colab": {
          "base_uri": "https://localhost:8080/"
        },
        "id": "A_i45xVwGfgB",
        "outputId": "36a93eb8-fa30-4e8e-d7db-d7e9a2809d6d"
      },
      "execution_count": null,
      "outputs": [
        {
          "output_type": "stream",
          "name": "stdout",
          "text": [
            "Matrix Product:\n",
            "[[16 19]\n",
            " [26 31]]\n",
            "Covariance matrix: \n",
            "[[0.66666667 1.        ]\n",
            " [1.         1.66666667]]\n"
          ]
        }
      ]
    },
    {
      "cell_type": "code",
      "source": [],
      "metadata": {
        "id": "P93Xf94OJZwT"
      },
      "execution_count": null,
      "outputs": []
    },
    {
      "cell_type": "code",
      "source": [
        "#(ii)\n",
        "\n",
        "p = np.array([[1, 2], [2, 3], [4, 5]])\n",
        "q = np.array([[4, 5, 1], [6, 7, 2]])\n",
        "product = np.dot(p,q)\n",
        "print(\"Matrix Product: \")\n",
        "print(product)\n",
        "\n",
        "# finding covariance\n",
        "p_flat = p.flatten()\n",
        "q_flat = q.flatten()\n",
        "\n",
        "mean_p = np.mean(p_flat)\n",
        "mean_q = np.mean(q_flat)\n",
        "\n",
        "cov_matrix = np.sum((p_flat - mean_p) * (q_flat - mean_q)) / (len(p_flat) - 1)\n",
        "print(\"Covariance matrix: \")\n",
        "print(cov_matrix)\n"
      ],
      "metadata": {
        "colab": {
          "base_uri": "https://localhost:8080/"
        },
        "id": "udo0O6UkJoMU",
        "outputId": "120e198d-cd10-49b9-9a15-f172caf19129"
      },
      "execution_count": null,
      "outputs": [
        {
          "output_type": "stream",
          "name": "stdout",
          "text": [
            "Matrix Product: \n",
            "[[16 19  5]\n",
            " [26 31  8]\n",
            " [46 55 14]]\n",
            "Covariance matrix: \n",
            "0.23333333333333356\n"
          ]
        }
      ]
    },
    {
      "cell_type": "code",
      "source": [
        "# Q1.h.  For the matrices: x = np.array([[2, 3, 4], [3, 2, 9]]); y = np.array([[1, 5, 0], [5, 10, 3]]), find inner, outer and cartesian product?\n",
        "\n",
        "import numpy as np\n",
        "x = np.array([[2, 3, 4], [3, 2, 9]])\n",
        "y = np.array([[1, 5, 0], [5, 10, 3]])\n",
        "\n",
        "inner_product = np.inner(x,y)\n",
        "print(\"Inner Product: \")\n",
        "print(inner_product)\n",
        "\n",
        "outer_product = np.outer(x,y)\n",
        "print(\"Outer Product: \")\n",
        "print(outer_product)\n",
        "\n",
        "x_flat = x.flatten()\n",
        "y_flat = y.flatten()\n",
        "cartesian_product = np.array(np.meshgrid(x_flat,y_flat)).T.reshape(-1,2)\n",
        "print(\"Cartesian Product: \")\n",
        "print(cartesian_product)\n"
      ],
      "metadata": {
        "colab": {
          "base_uri": "https://localhost:8080/"
        },
        "id": "8-85NEO92xuR",
        "outputId": "b681815a-04ca-4302-cd90-fb6a256dbb02"
      },
      "execution_count": null,
      "outputs": [
        {
          "output_type": "stream",
          "name": "stdout",
          "text": [
            "Inner Product: \n",
            "[[17 52]\n",
            " [13 62]]\n",
            "Outer Product: \n",
            "[[ 2 10  0 10 20  6]\n",
            " [ 3 15  0 15 30  9]\n",
            " [ 4 20  0 20 40 12]\n",
            " [ 3 15  0 15 30  9]\n",
            " [ 2 10  0 10 20  6]\n",
            " [ 9 45  0 45 90 27]]\n",
            "Cartesian Product: \n",
            "[[ 2  1]\n",
            " [ 2  5]\n",
            " [ 2  0]\n",
            " [ 2  5]\n",
            " [ 2 10]\n",
            " [ 2  3]\n",
            " [ 3  1]\n",
            " [ 3  5]\n",
            " [ 3  0]\n",
            " [ 3  5]\n",
            " [ 3 10]\n",
            " [ 3  3]\n",
            " [ 4  1]\n",
            " [ 4  5]\n",
            " [ 4  0]\n",
            " [ 4  5]\n",
            " [ 4 10]\n",
            " [ 4  3]\n",
            " [ 3  1]\n",
            " [ 3  5]\n",
            " [ 3  0]\n",
            " [ 3  5]\n",
            " [ 3 10]\n",
            " [ 3  3]\n",
            " [ 2  1]\n",
            " [ 2  5]\n",
            " [ 2  0]\n",
            " [ 2  5]\n",
            " [ 2 10]\n",
            " [ 2  3]\n",
            " [ 9  1]\n",
            " [ 9  5]\n",
            " [ 9  0]\n",
            " [ 9  5]\n",
            " [ 9 10]\n",
            " [ 9  3]]\n"
          ]
        }
      ]
    },
    {
      "cell_type": "code",
      "source": [
        "# Q2.a. (i)For the array: array = np.array([[1, -2, 3],[-4, 5, -6]]) i. Find element-wise absolute value\n",
        "\n",
        "import numpy as np\n",
        "arr = np.array([[1, -2, 3],[-4, 5, -6]])\n",
        "abs_values = np.abs(arr)\n",
        "print(\"Element-wise absolute values: \")\n",
        "print(abs_values)\n"
      ],
      "metadata": {
        "colab": {
          "base_uri": "https://localhost:8080/"
        },
        "id": "aUwTzXXp4QMo",
        "outputId": "8c68bb23-2497-4daf-d158-7a01c349d3d0"
      },
      "execution_count": null,
      "outputs": [
        {
          "output_type": "stream",
          "name": "stdout",
          "text": [
            "Element-wise absolute values: \n",
            "[[1 2 3]\n",
            " [4 5 6]]\n"
          ]
        }
      ]
    },
    {
      "cell_type": "code",
      "source": [
        "# ii. Percentiles of flattened array, for each column, and for each row\n",
        "\n",
        "import numpy as np\n",
        "arr = np.array([[1, -2, 3],[-4, 5, -6]])\n",
        "\n",
        "flattened_arr = arr.flatten()\n",
        "percentiles_flat = np.percentile(flattened_arr, [25,50,75])\n",
        "print(\"25th, 50th, 75th percentiles of flattened array: \")\n",
        "print(percentiles_flat)\n",
        "\n",
        "percentiles_col  = np.percentile(arr, [25,50,75], axis = 0)\n",
        "print(\"25th, 50th, 75th percentiles for each column: \")\n",
        "print(percentiles_col)\n",
        "\n",
        "percentiles_row  = np.percentile(arr, [25,50,75], axis = 1)\n",
        "print(\"25th, 50th, 75th percentiles for each row: \")\n",
        "print(percentiles_row)\n"
      ],
      "metadata": {
        "colab": {
          "base_uri": "https://localhost:8080/"
        },
        "id": "VjSYFYSk4-3X",
        "outputId": "e20fca66-a4b7-4a11-beef-1f46d01e234d"
      },
      "execution_count": null,
      "outputs": [
        {
          "output_type": "stream",
          "name": "stdout",
          "text": [
            "25th, 50th, 75th percentiles of flattened array: \n",
            "[-3.5 -0.5  2.5]\n",
            "25th, 50th, 75th percentiles for each column: \n",
            "[[-2.75 -0.25 -3.75]\n",
            " [-1.5   1.5  -1.5 ]\n",
            " [-0.25  3.25  0.75]]\n",
            "25th, 50th, 75th percentiles for each row: \n",
            "[[-0.5 -5. ]\n",
            " [ 1.  -4. ]\n",
            " [ 2.   0.5]]\n"
          ]
        }
      ]
    },
    {
      "cell_type": "code",
      "source": [
        "# iii. Mean, Median and Standard Deviation of flattened array, of each column, and each row\n",
        "\n",
        "# Flattened arr\n",
        "mean_flat = np.mean(flattened_arr)\n",
        "median_flat = np.median(flattened_arr)\n",
        "std_flat = np.std(flattened_arr)\n",
        "print(\"Mean, Median, Standard deviation of flattened arr: \")\n",
        "print(mean_flat, median_flat, std_flat)\n",
        "\n",
        "# For each col\n",
        "mean_col = np.mean(arr, axis = 0)\n",
        "median_col = np.median(arr, axis = 0)\n",
        "std_col = np.std(arr, axis = 0)\n",
        "print(\"Mean, Median, Standard deviation of each col: \")\n",
        "print(mean_col, median_col, std_col)\n",
        "\n",
        "#For each row\n",
        "mean_row = np.mean(arr, axis = 1)\n",
        "median_row = np.median(arr, axis = 1)\n",
        "std_row = np.std(arr, axis = 1)\n",
        "print(\"Mean, Median, Standard deviation of each row: \")\n",
        "print(mean_row, median_row, std_row)\n"
      ],
      "metadata": {
        "colab": {
          "base_uri": "https://localhost:8080/"
        },
        "id": "FXAgZ_7q5pa_",
        "outputId": "95eed194-4800-4898-c613-2cb2e5cb25b8"
      },
      "execution_count": null,
      "outputs": [
        {
          "output_type": "stream",
          "name": "stdout",
          "text": [
            "Mean, Median, Standard deviation of flattened arr: \n",
            "-0.5 -0.5 3.8622100754188224\n",
            "Mean, Median, Standard deviation of each col: \n",
            "[-1.5  1.5 -1.5] [-1.5  1.5 -1.5] [2.5 3.5 4.5]\n",
            "Mean, Median, Standard deviation of each row: \n",
            "[ 0.66666667 -1.66666667] [ 1. -4.] [2.05480467 4.78423336]\n"
          ]
        }
      ]
    },
    {
      "cell_type": "code",
      "source": [
        "# Q2. b. For the array: a = np.array([-1.8, -1.6, -0.5, 0.5,1.6, 1.8, 3.0]). Find floor, ceiling and truncated value, rounded values\n",
        "\n",
        "a = np.array([-1.8, -1.6, -0.5, 0.5,1.6, 1.8, 3.0])\n",
        "floor_values = np.floor(a)\n",
        "ceil_values = np.ceil(a)\n",
        "trunc_values = np.trunc(a)\n",
        "round_values = np.round(a)\n",
        "\n",
        "print(\"Floor values: \")\n",
        "print(floor_values)\n",
        "\n",
        "print(\"Ceiling values: \")\n",
        "print(ceil_values)\n",
        "\n",
        "print(\"Truncated values: \")\n",
        "print(trunc_values)\n",
        "\n",
        "print(\"Rounded values: \")\n",
        "print(round_values)"
      ],
      "metadata": {
        "colab": {
          "base_uri": "https://localhost:8080/"
        },
        "id": "f33_lAio74s2",
        "outputId": "f76e95d5-c336-46e1-f6c3-56be4c739588"
      },
      "execution_count": null,
      "outputs": [
        {
          "output_type": "stream",
          "name": "stdout",
          "text": [
            "Floor values: \n",
            "[-2. -2. -1.  0.  1.  1.  3.]\n",
            "Ceiling values: \n",
            "[-1. -1. -0.  1.  2.  2.  3.]\n",
            "Truncated values: \n",
            "[-1. -1. -0.  0.  1.  1.  3.]\n",
            "Rounded values: \n",
            "[-2. -2. -0.  0.  2.  2.  3.]\n"
          ]
        }
      ]
    },
    {
      "cell_type": "code",
      "source": [
        "# Q3.a. (i)For the array: array = np.array([10, 52, 62, 16, 16, 54, 453])\n",
        "\n",
        "import numpy as np\n",
        "arr = np.array([10, 52, 62, 16, 16, 54, 453])\n",
        "\n",
        "# i. Sorted array\n",
        "sorted_arr = np.sort(arr)\n",
        "print(\"Sorted arr: \", sorted_arr)\n",
        "\n",
        "# ii. Indices of sorted array\n",
        "indices_sorted_arr = np.argsort(arr)\n",
        "print(\"Indices of sorted arr: \", indices_sorted_arr)\n",
        "\n",
        "# iii.  4 smallest elements\n",
        "smallest_elements = np.sort(arr)[:4]\n",
        "print(\"4 smallest elements: \", smallest_elements)\n",
        "\n",
        "# iv. 5 largest elements\n",
        "largest_elements = np.sort(arr)[-5:]\n",
        "print(\"5 largest elements: \", largest_elements)\n"
      ],
      "metadata": {
        "colab": {
          "base_uri": "https://localhost:8080/"
        },
        "id": "SnVl8emV8sqV",
        "outputId": "4f4b63d5-37af-4001-d89e-f5bdda1c22e3"
      },
      "execution_count": null,
      "outputs": [
        {
          "output_type": "stream",
          "name": "stdout",
          "text": [
            "Sorted arr:  [ 10  16  16  52  54  62 453]\n",
            "Indices of sorted arr:  [0 3 4 1 5 2 6]\n",
            "4 smallest elements:  [10 16 16 52]\n",
            "5 largest elements:  [ 16  52  54  62 453]\n"
          ]
        }
      ]
    },
    {
      "cell_type": "code",
      "source": [
        "# Q3.b.  For the array: array = np.array([1.0, 1.2, 2.2, 2.0, 3.0, 2.0]), find\n",
        "\n",
        "import numpy as np\n",
        "arr = np.array([1.0, 1.2, 2.2, 2.0, 3.0, 2.0])\n",
        "\n",
        "# (i) Integer elements only\n",
        "integer_ele = arr[arr == arr.astype(int)]\n",
        "print(\"Integer elements only: \", integer_ele)\n",
        "\n",
        "# (ii) Float elements only\n",
        "float_ele = arr[arr != arr.astype(int)]\n",
        "print(\"Float elements only: \", float_ele)\n"
      ],
      "metadata": {
        "colab": {
          "base_uri": "https://localhost:8080/"
        },
        "id": "xCCTz0EcBOVR",
        "outputId": "0e79b43b-d524-4d29-fce1-a2459b0fa075"
      },
      "execution_count": null,
      "outputs": [
        {
          "output_type": "stream",
          "name": "stdout",
          "text": [
            "Integer elements only:  [1. 2. 3. 2.]\n",
            "Float elements only:  [1.2 2.2]\n"
          ]
        }
      ]
    }
  ]
}