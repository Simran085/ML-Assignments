{
  "nbformat": 4,
  "nbformat_minor": 0,
  "metadata": {
    "colab": {
      "provenance": [],
      "authorship_tag": "ABX9TyNEyjKDsKnFMCCJ8TMHRxt3",
      "include_colab_link": true
    },
    "kernelspec": {
      "name": "python3",
      "display_name": "Python 3"
    },
    "language_info": {
      "name": "python"
    }
  },
  "cells": [
    {
      "cell_type": "markdown",
      "metadata": {
        "id": "view-in-github",
        "colab_type": "text"
      },
      "source": [
        "<a href=\"https://colab.research.google.com/github/Simran085/ML_LAB_ASS_102216115/blob/main/ML_Lab2.ipynb\" target=\"_parent\"><img src=\"https://colab.research.google.com/assets/colab-badge.svg\" alt=\"Open In Colab\"/></a>"
      ]
    },
    {
      "cell_type": "code",
      "execution_count": 1,
      "metadata": {
        "colab": {
          "base_uri": "https://localhost:8080/",
          "height": 73
        },
        "id": "dQLhzDVN5lN9",
        "outputId": "91797e25-4a2f-4466-f216-0c80f11c8bb9"
      },
      "outputs": [
        {
          "output_type": "display_data",
          "data": {
            "text/plain": [
              "<IPython.core.display.HTML object>"
            ],
            "text/html": [
              "\n",
              "     <input type=\"file\" id=\"files-e49de1db-3414-4d68-a665-f737ed62e267\" name=\"files[]\" multiple disabled\n",
              "        style=\"border:none\" />\n",
              "     <output id=\"result-e49de1db-3414-4d68-a665-f737ed62e267\">\n",
              "      Upload widget is only available when the cell has been executed in the\n",
              "      current browser session. Please rerun this cell to enable.\n",
              "      </output>\n",
              "      <script>// Copyright 2017 Google LLC\n",
              "//\n",
              "// Licensed under the Apache License, Version 2.0 (the \"License\");\n",
              "// you may not use this file except in compliance with the License.\n",
              "// You may obtain a copy of the License at\n",
              "//\n",
              "//      http://www.apache.org/licenses/LICENSE-2.0\n",
              "//\n",
              "// Unless required by applicable law or agreed to in writing, software\n",
              "// distributed under the License is distributed on an \"AS IS\" BASIS,\n",
              "// WITHOUT WARRANTIES OR CONDITIONS OF ANY KIND, either express or implied.\n",
              "// See the License for the specific language governing permissions and\n",
              "// limitations under the License.\n",
              "\n",
              "/**\n",
              " * @fileoverview Helpers for google.colab Python module.\n",
              " */\n",
              "(function(scope) {\n",
              "function span(text, styleAttributes = {}) {\n",
              "  const element = document.createElement('span');\n",
              "  element.textContent = text;\n",
              "  for (const key of Object.keys(styleAttributes)) {\n",
              "    element.style[key] = styleAttributes[key];\n",
              "  }\n",
              "  return element;\n",
              "}\n",
              "\n",
              "// Max number of bytes which will be uploaded at a time.\n",
              "const MAX_PAYLOAD_SIZE = 100 * 1024;\n",
              "\n",
              "function _uploadFiles(inputId, outputId) {\n",
              "  const steps = uploadFilesStep(inputId, outputId);\n",
              "  const outputElement = document.getElementById(outputId);\n",
              "  // Cache steps on the outputElement to make it available for the next call\n",
              "  // to uploadFilesContinue from Python.\n",
              "  outputElement.steps = steps;\n",
              "\n",
              "  return _uploadFilesContinue(outputId);\n",
              "}\n",
              "\n",
              "// This is roughly an async generator (not supported in the browser yet),\n",
              "// where there are multiple asynchronous steps and the Python side is going\n",
              "// to poll for completion of each step.\n",
              "// This uses a Promise to block the python side on completion of each step,\n",
              "// then passes the result of the previous step as the input to the next step.\n",
              "function _uploadFilesContinue(outputId) {\n",
              "  const outputElement = document.getElementById(outputId);\n",
              "  const steps = outputElement.steps;\n",
              "\n",
              "  const next = steps.next(outputElement.lastPromiseValue);\n",
              "  return Promise.resolve(next.value.promise).then((value) => {\n",
              "    // Cache the last promise value to make it available to the next\n",
              "    // step of the generator.\n",
              "    outputElement.lastPromiseValue = value;\n",
              "    return next.value.response;\n",
              "  });\n",
              "}\n",
              "\n",
              "/**\n",
              " * Generator function which is called between each async step of the upload\n",
              " * process.\n",
              " * @param {string} inputId Element ID of the input file picker element.\n",
              " * @param {string} outputId Element ID of the output display.\n",
              " * @return {!Iterable<!Object>} Iterable of next steps.\n",
              " */\n",
              "function* uploadFilesStep(inputId, outputId) {\n",
              "  const inputElement = document.getElementById(inputId);\n",
              "  inputElement.disabled = false;\n",
              "\n",
              "  const outputElement = document.getElementById(outputId);\n",
              "  outputElement.innerHTML = '';\n",
              "\n",
              "  const pickedPromise = new Promise((resolve) => {\n",
              "    inputElement.addEventListener('change', (e) => {\n",
              "      resolve(e.target.files);\n",
              "    });\n",
              "  });\n",
              "\n",
              "  const cancel = document.createElement('button');\n",
              "  inputElement.parentElement.appendChild(cancel);\n",
              "  cancel.textContent = 'Cancel upload';\n",
              "  const cancelPromise = new Promise((resolve) => {\n",
              "    cancel.onclick = () => {\n",
              "      resolve(null);\n",
              "    };\n",
              "  });\n",
              "\n",
              "  // Wait for the user to pick the files.\n",
              "  const files = yield {\n",
              "    promise: Promise.race([pickedPromise, cancelPromise]),\n",
              "    response: {\n",
              "      action: 'starting',\n",
              "    }\n",
              "  };\n",
              "\n",
              "  cancel.remove();\n",
              "\n",
              "  // Disable the input element since further picks are not allowed.\n",
              "  inputElement.disabled = true;\n",
              "\n",
              "  if (!files) {\n",
              "    return {\n",
              "      response: {\n",
              "        action: 'complete',\n",
              "      }\n",
              "    };\n",
              "  }\n",
              "\n",
              "  for (const file of files) {\n",
              "    const li = document.createElement('li');\n",
              "    li.append(span(file.name, {fontWeight: 'bold'}));\n",
              "    li.append(span(\n",
              "        `(${file.type || 'n/a'}) - ${file.size} bytes, ` +\n",
              "        `last modified: ${\n",
              "            file.lastModifiedDate ? file.lastModifiedDate.toLocaleDateString() :\n",
              "                                    'n/a'} - `));\n",
              "    const percent = span('0% done');\n",
              "    li.appendChild(percent);\n",
              "\n",
              "    outputElement.appendChild(li);\n",
              "\n",
              "    const fileDataPromise = new Promise((resolve) => {\n",
              "      const reader = new FileReader();\n",
              "      reader.onload = (e) => {\n",
              "        resolve(e.target.result);\n",
              "      };\n",
              "      reader.readAsArrayBuffer(file);\n",
              "    });\n",
              "    // Wait for the data to be ready.\n",
              "    let fileData = yield {\n",
              "      promise: fileDataPromise,\n",
              "      response: {\n",
              "        action: 'continue',\n",
              "      }\n",
              "    };\n",
              "\n",
              "    // Use a chunked sending to avoid message size limits. See b/62115660.\n",
              "    let position = 0;\n",
              "    do {\n",
              "      const length = Math.min(fileData.byteLength - position, MAX_PAYLOAD_SIZE);\n",
              "      const chunk = new Uint8Array(fileData, position, length);\n",
              "      position += length;\n",
              "\n",
              "      const base64 = btoa(String.fromCharCode.apply(null, chunk));\n",
              "      yield {\n",
              "        response: {\n",
              "          action: 'append',\n",
              "          file: file.name,\n",
              "          data: base64,\n",
              "        },\n",
              "      };\n",
              "\n",
              "      let percentDone = fileData.byteLength === 0 ?\n",
              "          100 :\n",
              "          Math.round((position / fileData.byteLength) * 100);\n",
              "      percent.textContent = `${percentDone}% done`;\n",
              "\n",
              "    } while (position < fileData.byteLength);\n",
              "  }\n",
              "\n",
              "  // All done.\n",
              "  yield {\n",
              "    response: {\n",
              "      action: 'complete',\n",
              "    }\n",
              "  };\n",
              "}\n",
              "\n",
              "scope.google = scope.google || {};\n",
              "scope.google.colab = scope.google.colab || {};\n",
              "scope.google.colab._files = {\n",
              "  _uploadFiles,\n",
              "  _uploadFilesContinue,\n",
              "};\n",
              "})(self);\n",
              "</script> "
            ]
          },
          "metadata": {}
        },
        {
          "output_type": "stream",
          "name": "stdout",
          "text": [
            "Saving AWCustomers.csv to AWCustomers.csv\n"
          ]
        }
      ],
      "source": [
        "from google.colab import files\n",
        "uploaded = files.upload()"
      ]
    },
    {
      "cell_type": "code",
      "source": [
        "import pandas as pd\n",
        "df = pd.read_csv('AWCustomers.csv')\n"
      ],
      "metadata": {
        "id": "enKg16Wm58bY"
      },
      "execution_count": 2,
      "outputs": []
    },
    {
      "cell_type": "code",
      "source": [
        "# Display the column names in your DataFrame\n",
        "# (The to_string() method will display the entire DataFrame as a string without truncation.)\n",
        "print(df.head().to_string())\n"
      ],
      "metadata": {
        "colab": {
          "base_uri": "https://localhost:8080/"
        },
        "id": "0Qp-IEkbBRws",
        "outputId": "d0aae7b3-3d3e-4369-b7ef-cc25adcccd19"
      },
      "execution_count": 18,
      "outputs": [
        {
          "output_type": "stream",
          "name": "stdout",
          "text": [
            "   CustomerID Title FirstName MiddleName  LastName Suffix            AddressLine1 AddressLine2         City    StateProvinceName CountryRegionName PostalCode          PhoneNumber   BirthDate        Education      Occupation Gender MaritalStatus  HomeOwnerFlag  NumberCarsOwned  NumberChildrenAtHome  TotalChildren  YearlyIncome LastUpdated\n",
            "0       21173   NaN      Chad          C      Yuan    NaN      7090 C. Mount Hood          NaN   Wollongong      New South Wales         Australia       2500  1 (11) 500 555-0115  13-11-1987        Bachelors        Clerical      M             M              1                3                     0              1         81916  06-03-2017\n",
            "1       13249   NaN      Ryan        NaN     Perry    NaN     3651 Willow Lake Rd          NaN      Shawnee     British Columbia            Canada    V9B 2C3         787-555-0136  21-07-1972  Partial College        Clerical      M             M              1                2                     1              2         81076  06-03-2017\n",
            "2       29350   NaN     Julia        NaN  Thompson    NaN  1774 Tice Valley Blvd.          NaN  West Covina           California     United States      91791         120-555-0111  09-11-1985        Bachelors        Clerical      F             S              0                3                     0              0         86387  06-03-2017\n",
            "3       13503   NaN  Theodore        NaN     Gomez    NaN         2103 Baldwin Dr          NaN    Liverpool              England    United Kingdom     L4 4HB  1 (11) 500 555-0167  18-10-1977  Partial College  Skilled Manual      M             M              1                2                     1              2         61481  06-03-2017\n",
            "4       22803   NaN  Marshall          J      Shan    NaN         Am Gallberg 234          NaN        Werne  Nordrhein-Westfalen           Germany      59368  1 (11) 500 555-0113  05-02-1975  Partial College  Skilled Manual      M             S              1                1                     0              0         51804  06-03-2017\n"
          ]
        }
      ]
    },
    {
      "cell_type": "code",
      "source": [
        "# Part1.a,b.\n",
        "\n",
        "selected_columns = ['City', 'StateProvinceName', 'CountryRegionName', 'PostalCode', 'BirthDate','Education', 'Occupation', 'Gender', 'MaritalStatus','HomeOwnerFlag', 'NumberCarsOwned', 'NumberChildrenAtHome', 'TotalChildren','YearlyIncome']\n",
        "\n",
        "# checking for no of null values present\n",
        "null = df.isnull().sum()\n",
        "print(null)"
      ],
      "metadata": {
        "colab": {
          "base_uri": "https://localhost:8080/"
        },
        "id": "gUB1dk3h7CEQ",
        "outputId": "3d4e1819-7cac-40e9-e761-863d5d685415"
      },
      "execution_count": 7,
      "outputs": [
        {
          "output_type": "stream",
          "name": "stdout",
          "text": [
            "CustomerID                  0\n",
            "Title                   18260\n",
            "FirstName                   0\n",
            "MiddleName               7789\n",
            "LastName                    0\n",
            "Suffix                  18358\n",
            "AddressLine1                0\n",
            "AddressLine2            18050\n",
            "City                        0\n",
            "StateProvinceName           0\n",
            "CountryRegionName           0\n",
            "PostalCode                  0\n",
            "PhoneNumber                 0\n",
            "BirthDate                   0\n",
            "Education                   0\n",
            "Occupation                  0\n",
            "Gender                      0\n",
            "MaritalStatus               0\n",
            "HomeOwnerFlag               0\n",
            "NumberCarsOwned             0\n",
            "NumberChildrenAtHome        0\n",
            "TotalChildren               0\n",
            "YearlyIncome                0\n",
            "LastUpdated                 0\n",
            "dtype: int64\n"
          ]
        }
      ]
    },
    {
      "cell_type": "code",
      "source": [
        "df_selected = df[selected_columns]\n",
        "print(df_selected.head().to_string())"
      ],
      "metadata": {
        "colab": {
          "base_uri": "https://localhost:8080/"
        },
        "id": "goyeRxppNC5l",
        "outputId": "546feef4-b6f2-409a-a667-2af7bdb69ad4"
      },
      "execution_count": 20,
      "outputs": [
        {
          "output_type": "stream",
          "name": "stdout",
          "text": [
            "          City    StateProvinceName CountryRegionName PostalCode   BirthDate        Education      Occupation Gender MaritalStatus  HomeOwnerFlag  NumberCarsOwned  NumberChildrenAtHome  TotalChildren  YearlyIncome\n",
            "0   Wollongong      New South Wales         Australia       2500  13-11-1987        Bachelors        Clerical      M             M              1                3                     0              1         81916\n",
            "1      Shawnee     British Columbia            Canada    V9B 2C3  21-07-1972  Partial College        Clerical      M             M              1                2                     1              2         81076\n",
            "2  West Covina           California     United States      91791  09-11-1985        Bachelors        Clerical      F             S              0                3                     0              0         86387\n",
            "3    Liverpool              England    United Kingdom     L4 4HB  18-10-1977  Partial College  Skilled Manual      M             M              1                2                     1              2         61481\n",
            "4        Werne  Nordrhein-Westfalen           Germany      59368  05-02-1975  Partial College  Skilled Manual      M             S              1                1                     0              0         51804\n"
          ]
        }
      ]
    },
    {
      "cell_type": "code",
      "source": [
        "# Q3.c datatype(Discrete/Continuous) & measurement(Nominal, Ordinal, Interval, Ratio) for each attribute in df_selected\n",
        "\n",
        "df_Types_Scales = {'Attribute': [], 'Type': [], 'Scale': []}\n",
        "\n",
        "df_Types_Scales['Attribute'].extend(['City', 'StateProvinceName', 'CountryRegionName', 'PostalCode', 'BirthDate','Education', 'Occupation', 'Gender', 'MaritalStatus','HomeOwnerFlag', 'NumberCarsOwned', 'NumberChildrenAtHome', 'TotalChildren','YearlyIncome'])\n",
        "df_Types_Scales['Type'].extend(['Discrete', 'Discrete', 'Discrete', 'Discrete', 'Continuous','Discrete', 'Discrete', 'Discrete', 'Discrete','Discrete', 'Discrete', 'Discrete', 'Discrete','Continuous'])\n",
        "df_Types_Scales['Scale'].extend(['Nominal', 'Nominal', 'Nominal', 'Nominal', 'Interval','Ordinal', 'Nominal', 'Nominal', 'Nominal','Nominal', 'Ratio', 'Ratio', 'Ratio','Ratio'])\n",
        "\n",
        "# Create a DataFrame to display the information\n",
        "df_Types_Scales = pd.DataFrame(df_Types_Scales)\n",
        "\n",
        "# Display the data type and scale information\n",
        "print(df_Types_Scales.to_string(index=False))\n",
        "\n"
      ],
      "metadata": {
        "colab": {
          "base_uri": "https://localhost:8080/"
        },
        "id": "rmTrMGxLPlgR",
        "outputId": "01118043-7afd-4ad8-f252-eacdea954030"
      },
      "execution_count": 27,
      "outputs": [
        {
          "output_type": "stream",
          "name": "stdout",
          "text": [
            "           Attribute       Type    Scale\n",
            "                City   Discrete  Nominal\n",
            "   StateProvinceName   Discrete  Nominal\n",
            "   CountryRegionName   Discrete  Nominal\n",
            "          PostalCode   Discrete  Nominal\n",
            "           BirthDate Continuous Interval\n",
            "           Education   Discrete  Ordinal\n",
            "          Occupation   Discrete  Nominal\n",
            "              Gender   Discrete  Nominal\n",
            "       MaritalStatus   Discrete  Nominal\n",
            "       HomeOwnerFlag   Discrete  Nominal\n",
            "     NumberCarsOwned   Discrete    Ratio\n",
            "NumberChildrenAtHome   Discrete    Ratio\n",
            "       TotalChildren   Discrete    Ratio\n",
            "        YearlyIncome Continuous    Ratio\n"
          ]
        }
      ]
    },
    {
      "cell_type": "code",
      "source": [
        "# PartII. a.\n",
        "\n",
        "# checking for null values\n",
        "null = df_selected.isnull().sum()\n",
        "print(null)"
      ],
      "metadata": {
        "colab": {
          "base_uri": "https://localhost:8080/"
        },
        "id": "JLXgeOA8SD4Y",
        "outputId": "4b050718-2faa-45de-980c-d2a0bbde33e4"
      },
      "execution_count": 28,
      "outputs": [
        {
          "output_type": "stream",
          "name": "stdout",
          "text": [
            "City                    0\n",
            "StateProvinceName       0\n",
            "CountryRegionName       0\n",
            "PostalCode              0\n",
            "BirthDate               0\n",
            "Education               0\n",
            "Occupation              0\n",
            "Gender                  0\n",
            "MaritalStatus           0\n",
            "HomeOwnerFlag           0\n",
            "NumberCarsOwned         0\n",
            "NumberChildrenAtHome    0\n",
            "TotalChildren           0\n",
            "YearlyIncome            0\n",
            "dtype: int64\n"
          ]
        }
      ]
    },
    {
      "cell_type": "code",
      "source": [
        "# In df_selected there are no colms with null values, so handing the null values in df\n",
        "\n",
        "# for a col having too many null values, drop it\n",
        "\n",
        "df = df.drop(columns=['Title', 'Suffix', 'AddressLine2'])\n",
        "print(df.head().to_string())\n"
      ],
      "metadata": {
        "colab": {
          "base_uri": "https://localhost:8080/"
        },
        "id": "rIlgX8JsS4Ck",
        "outputId": "22ae3cf0-94e7-4d5c-9a56-4eb3002655b2"
      },
      "execution_count": 30,
      "outputs": [
        {
          "output_type": "stream",
          "name": "stdout",
          "text": [
            "   CustomerID FirstName MiddleName  LastName            AddressLine1         City    StateProvinceName CountryRegionName PostalCode          PhoneNumber   BirthDate        Education      Occupation Gender MaritalStatus  HomeOwnerFlag  NumberCarsOwned  NumberChildrenAtHome  TotalChildren  YearlyIncome LastUpdated\n",
            "0       21173      Chad          C      Yuan      7090 C. Mount Hood   Wollongong      New South Wales         Australia       2500  1 (11) 500 555-0115  13-11-1987        Bachelors        Clerical      M             M              1                3                     0              1         81916  06-03-2017\n",
            "1       13249      Ryan        NaN     Perry     3651 Willow Lake Rd      Shawnee     British Columbia            Canada    V9B 2C3         787-555-0136  21-07-1972  Partial College        Clerical      M             M              1                2                     1              2         81076  06-03-2017\n",
            "2       29350     Julia        NaN  Thompson  1774 Tice Valley Blvd.  West Covina           California     United States      91791         120-555-0111  09-11-1985        Bachelors        Clerical      F             S              0                3                     0              0         86387  06-03-2017\n",
            "3       13503  Theodore        NaN     Gomez         2103 Baldwin Dr    Liverpool              England    United Kingdom     L4 4HB  1 (11) 500 555-0167  18-10-1977  Partial College  Skilled Manual      M             M              1                2                     1              2         61481  06-03-2017\n",
            "4       22803  Marshall          J      Shan         Am Gallberg 234        Werne  Nordrhein-Westfalen           Germany      59368  1 (11) 500 555-0113  05-02-1975  Partial College  Skilled Manual      M             S              1                1                     0              0         51804  06-03-2017\n"
          ]
        }
      ]
    },
    {
      "cell_type": "code",
      "source": [
        "# for categorical data(nominal, ordinal) Fill null values with the mode or a placeholder(like unknown)\n",
        "\n",
        "df['MiddleName'].fillna(\"Unknown\", inplace=True)\n",
        "df['Occupation'].fillna(df['Occupation'].mode()[0], inplace = True)\n",
        "print(df.head().to_string())\n"
      ],
      "metadata": {
        "colab": {
          "base_uri": "https://localhost:8080/"
        },
        "id": "Ns5kWXaOTXku",
        "outputId": "c49c11ac-a54e-48ac-a8ec-adbe24e3ceaa"
      },
      "execution_count": 35,
      "outputs": [
        {
          "output_type": "stream",
          "name": "stdout",
          "text": [
            "   CustomerID FirstName MiddleName  LastName            AddressLine1         City    StateProvinceName CountryRegionName PostalCode          PhoneNumber   BirthDate        Education      Occupation Gender MaritalStatus  HomeOwnerFlag  NumberCarsOwned  NumberChildrenAtHome  TotalChildren  YearlyIncome LastUpdated\n",
            "0       21173      Chad          C      Yuan      7090 C. Mount Hood   Wollongong      New South Wales         Australia       2500  1 (11) 500 555-0115  13-11-1987        Bachelors        Clerical      M             M              1                3                     0              1         81916  06-03-2017\n",
            "1       13249      Ryan    Unknown     Perry     3651 Willow Lake Rd      Shawnee     British Columbia            Canada    V9B 2C3         787-555-0136  21-07-1972  Partial College        Clerical      M             M              1                2                     1              2         81076  06-03-2017\n",
            "2       29350     Julia    Unknown  Thompson  1774 Tice Valley Blvd.  West Covina           California     United States      91791         120-555-0111  09-11-1985        Bachelors        Clerical      F             S              0                3                     0              0         86387  06-03-2017\n",
            "3       13503  Theodore    Unknown     Gomez         2103 Baldwin Dr    Liverpool              England    United Kingdom     L4 4HB  1 (11) 500 555-0167  18-10-1977  Partial College  Skilled Manual      M             M              1                2                     1              2         61481  06-03-2017\n",
            "4       22803  Marshall          J      Shan         Am Gallberg 234        Werne  Nordrhein-Westfalen           Germany      59368  1 (11) 500 555-0113  05-02-1975  Partial College  Skilled Manual      M             S              1                1                     0              0         51804  06-03-2017\n"
          ]
        }
      ]
    },
    {
      "cell_type": "code",
      "source": [
        "\n",
        "# for continuous data(interval, ratio): Fill null values with mean, median, or placeholder like 0\n",
        "\n",
        "df['YearlyIncome'].fillna(df['YearlyIncome'].mean(), inplace = True)\n",
        "print(df.head().to_string())\n"
      ],
      "metadata": {
        "colab": {
          "base_uri": "https://localhost:8080/"
        },
        "id": "W3-WG-yEU3mO",
        "outputId": "ebd55ad6-0096-4fc3-dfcb-d0058b379d1c"
      },
      "execution_count": 34,
      "outputs": [
        {
          "output_type": "stream",
          "name": "stdout",
          "text": [
            "   CustomerID FirstName MiddleName  LastName            AddressLine1         City    StateProvinceName CountryRegionName PostalCode          PhoneNumber   BirthDate        Education      Occupation Gender MaritalStatus  HomeOwnerFlag  NumberCarsOwned  NumberChildrenAtHome  TotalChildren  YearlyIncome LastUpdated\n",
            "0       21173      Chad          C      Yuan      7090 C. Mount Hood   Wollongong      New South Wales         Australia       2500  1 (11) 500 555-0115  13-11-1987        Bachelors        Clerical      M             M              1                3                     0              1         81916  06-03-2017\n",
            "1       13249      Ryan    Unknown     Perry     3651 Willow Lake Rd      Shawnee     British Columbia            Canada    V9B 2C3         787-555-0136  21-07-1972  Partial College        Clerical      M             M              1                2                     1              2         81076  06-03-2017\n",
            "2       29350     Julia    Unknown  Thompson  1774 Tice Valley Blvd.  West Covina           California     United States      91791         120-555-0111  09-11-1985        Bachelors        Clerical      F             S              0                3                     0              0         86387  06-03-2017\n",
            "3       13503  Theodore    Unknown     Gomez         2103 Baldwin Dr    Liverpool              England    United Kingdom     L4 4HB  1 (11) 500 555-0167  18-10-1977  Partial College  Skilled Manual      M             M              1                2                     1              2         61481  06-03-2017\n",
            "4       22803  Marshall          J      Shan         Am Gallberg 234        Werne  Nordrhein-Westfalen           Germany      59368  1 (11) 500 555-0113  05-02-1975  Partial College  Skilled Manual      M             S              1                1                     0              0         51804  06-03-2017\n"
          ]
        }
      ]
    },
    {
      "cell_type": "code",
      "source": [
        "\n",
        "# verify if there are no null values\n",
        "\n",
        "null = df.isnull().sum()\n",
        "print(null)\n"
      ],
      "metadata": {
        "colab": {
          "base_uri": "https://localhost:8080/"
        },
        "id": "nOOJtCC9VjW8",
        "outputId": "b65d2487-3733-4d93-9d70-9f5d5931a352"
      },
      "execution_count": 36,
      "outputs": [
        {
          "output_type": "stream",
          "name": "stdout",
          "text": [
            "CustomerID              0\n",
            "FirstName               0\n",
            "MiddleName              0\n",
            "LastName                0\n",
            "AddressLine1            0\n",
            "City                    0\n",
            "StateProvinceName       0\n",
            "CountryRegionName       0\n",
            "PostalCode              0\n",
            "PhoneNumber             0\n",
            "BirthDate               0\n",
            "Education               0\n",
            "Occupation              0\n",
            "Gender                  0\n",
            "MaritalStatus           0\n",
            "HomeOwnerFlag           0\n",
            "NumberCarsOwned         0\n",
            "NumberChildrenAtHome    0\n",
            "TotalChildren           0\n",
            "YearlyIncome            0\n",
            "LastUpdated             0\n",
            "dtype: int64\n"
          ]
        }
      ]
    },
    {
      "cell_type": "code",
      "source": [
        "# II. b. Normalization\n",
        "# (Normalization is the process of scaling numerical data to a common range without distorting differences in the ranges of values.)\n",
        "\n",
        "# finding numerical colms\n",
        "numerical_colm = df_selected.select_dtypes(include=['int64', 'float64']).columns\n",
        "\n",
        "print(\"Numerical cols: \", numerical_colm)\n"
      ],
      "metadata": {
        "colab": {
          "base_uri": "https://localhost:8080/"
        },
        "id": "toTjEfL6WDT6",
        "outputId": "02f39cc3-5009-4c70-b057-e5af1df00692"
      },
      "execution_count": 39,
      "outputs": [
        {
          "output_type": "stream",
          "name": "stdout",
          "text": [
            "Numerical cols:  Index(['HomeOwnerFlag', 'NumberCarsOwned', 'NumberChildrenAtHome',\n",
            "       'TotalChildren', 'YearlyIncome'],\n",
            "      dtype='object')\n"
          ]
        }
      ]
    },
    {
      "cell_type": "code",
      "source": [
        "#  normalize using Min-Max Scaling\n",
        "\n",
        "from sklearn.preprocessing import MinMaxScaler\n",
        "scaler = MinMaxScaler()  #initialse the minMaxScaler\n",
        "\n",
        "numerical_colms = ['HomeOwnerFlag', 'NumberCarsOwned', 'NumberChildrenAtHome',\n",
        "       'TotalChildren', 'YearlyIncome']\n",
        "df_selected[numerical_colms] = scaler.fit_transform(df_selected[numerical_colms])\n",
        "\n",
        "print(df_selected.head().to_string())\n"
      ],
      "metadata": {
        "colab": {
          "base_uri": "https://localhost:8080/"
        },
        "id": "sYbXr0uRalKG",
        "outputId": "98055cb4-2664-4311-d0d6-b9dbd515f25b"
      },
      "execution_count": 45,
      "outputs": [
        {
          "output_type": "stream",
          "name": "stdout",
          "text": [
            "          City    StateProvinceName CountryRegionName PostalCode   BirthDate        Education      Occupation Gender MaritalStatus  HomeOwnerFlag  NumberCarsOwned  NumberChildrenAtHome  TotalChildren  YearlyIncome\n",
            "0   Wollongong      New South Wales         Australia       2500  13-11-1987        Bachelors        Clerical      M             M            1.0              0.6              0.000000       0.333333      0.496842\n",
            "1      Shawnee     British Columbia            Canada    V9B 2C3  21-07-1972  Partial College        Clerical      M             M            1.0              0.4              0.333333       0.666667      0.489453\n",
            "2  West Covina           California     United States      91791  09-11-1985        Bachelors        Clerical      F             S            0.0              0.6              0.000000       0.000000      0.536172\n",
            "3    Liverpool              England    United Kingdom     L4 4HB  18-10-1977  Partial College  Skilled Manual      M             M            1.0              0.4              0.333333       0.666667      0.317083\n",
            "4        Werne  Nordrhein-Westfalen           Germany      59368  05-02-1975  Partial College  Skilled Manual      M             S            1.0              0.2              0.000000       0.000000      0.231958\n"
          ]
        }
      ]
    },
    {
      "cell_type": "code",
      "source": [
        "print(df_selected[numerical_colms].describe().to_string())\n"
      ],
      "metadata": {
        "colab": {
          "base_uri": "https://localhost:8080/"
        },
        "id": "KLjOmRgqb8RN",
        "outputId": "fd499a98-2862-4046-d947-f8f0f82e79bf"
      },
      "execution_count": 46,
      "outputs": [
        {
          "output_type": "stream",
          "name": "stdout",
          "text": [
            "       HomeOwnerFlag  NumberCarsOwned  NumberChildrenAtHome  TotalChildren  YearlyIncome\n",
            "count   18361.000000     18361.000000          18361.000000   18361.000000  18361.000000\n",
            "mean        0.610588         0.254060              0.112721       0.283463      0.416254\n",
            "std         0.487630         0.182798              0.189652       0.309105      0.269933\n",
            "min         0.000000         0.000000              0.000000       0.000000      0.000000\n",
            "25%         0.000000         0.200000              0.000000       0.000000      0.245223\n",
            "50%         1.000000         0.200000              0.000000       0.000000      0.320338\n",
            "75%         1.000000         0.400000              0.333333       0.666667      0.545171\n",
            "max         1.000000         1.000000              1.000000       1.000000      1.000000\n"
          ]
        }
      ]
    },
    {
      "cell_type": "code",
      "source": [
        "\n",
        "# normalize yearly income using Z-score normalizn. (Standadization)\n",
        "\n",
        "from sklearn.preprocessing import StandardScaler\n",
        "scaler = StandardScaler()\n",
        "\n",
        "colm = 'YearlyIncome'\n",
        "df_selected[colm] = scaler.fit_transform(df_selected[[colm]])\n",
        "\n",
        "df_selected[colm].head()\n"
      ],
      "metadata": {
        "colab": {
          "base_uri": "https://localhost:8080/",
          "height": 241
        },
        "id": "7lER3yg_bPYo",
        "outputId": "702790e1-2731-4d74-b85d-0e5701f239dc"
      },
      "execution_count": 54,
      "outputs": [
        {
          "output_type": "execute_result",
          "data": {
            "text/plain": [
              "0    0.298555\n",
              "1    0.271180\n",
              "2    0.444261\n",
              "3   -0.367401\n",
              "4   -0.682765\n",
              "Name: YearlyIncome, dtype: float64"
            ],
            "text/html": [
              "<div>\n",
              "<style scoped>\n",
              "    .dataframe tbody tr th:only-of-type {\n",
              "        vertical-align: middle;\n",
              "    }\n",
              "\n",
              "    .dataframe tbody tr th {\n",
              "        vertical-align: top;\n",
              "    }\n",
              "\n",
              "    .dataframe thead th {\n",
              "        text-align: right;\n",
              "    }\n",
              "</style>\n",
              "<table border=\"1\" class=\"dataframe\">\n",
              "  <thead>\n",
              "    <tr style=\"text-align: right;\">\n",
              "      <th></th>\n",
              "      <th>YearlyIncome</th>\n",
              "    </tr>\n",
              "  </thead>\n",
              "  <tbody>\n",
              "    <tr>\n",
              "      <th>0</th>\n",
              "      <td>0.298555</td>\n",
              "    </tr>\n",
              "    <tr>\n",
              "      <th>1</th>\n",
              "      <td>0.271180</td>\n",
              "    </tr>\n",
              "    <tr>\n",
              "      <th>2</th>\n",
              "      <td>0.444261</td>\n",
              "    </tr>\n",
              "    <tr>\n",
              "      <th>3</th>\n",
              "      <td>-0.367401</td>\n",
              "    </tr>\n",
              "    <tr>\n",
              "      <th>4</th>\n",
              "      <td>-0.682765</td>\n",
              "    </tr>\n",
              "  </tbody>\n",
              "</table>\n",
              "</div><br><label><b>dtype:</b> float64</label>"
            ]
          },
          "metadata": {},
          "execution_count": 54
        }
      ]
    },
    {
      "cell_type": "code",
      "source": [
        "# II.c. Discretization (binning) is the process of converting continuous data into discrete bins or intervals.\n",
        "\n",
        "bins = [0, 40000, 80000, 120000]\n",
        "labels = ['Low', 'Medium', 'High']\n",
        "\n",
        "df_selected['IncomeCategory'] = pd.cut(df_selected['YearlyIncome'], bins=bins, labels=labels, include_lowest=True)\n",
        "\n",
        "print(df_selected[['YearlyIncome', 'IncomeCategory']].head().to_string())\n"
      ],
      "metadata": {
        "colab": {
          "base_uri": "https://localhost:8080/"
        },
        "id": "S2gm20npglrE",
        "outputId": "a15e7755-1d98-4316-cfc1-45972720f0be"
      },
      "execution_count": 62,
      "outputs": [
        {
          "output_type": "stream",
          "name": "stdout",
          "text": [
            "   YearlyIncome IncomeCategory\n",
            "0      0.298555            Low\n",
            "1      0.271180            Low\n",
            "2      0.444261            Low\n",
            "3     -0.367401            NaN\n",
            "4     -0.682765            NaN\n"
          ]
        }
      ]
    }
  ]
}